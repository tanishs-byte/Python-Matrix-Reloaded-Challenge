{
 "cells": [
  {
   "cell_type": "markdown",
   "metadata": {},
   "source": [
    "🧠 Matrix Operations Challenge\n",
    "\n",
    "# Objective\n",
    "\n",
    "Implement a 2D `Matrix` class in Python that supports:\n",
    "\n",
    "- Basic arithmetic operations (`+`, `-`, `*`, `@`, `**`)\n",
    "- Broadcasting\n",
    "- Complex expressions\n",
    "- Performance optimization using tools like:\n",
    "  - `__slots__`\n",
    "  - Memory footprint analysis\n",
    "  - Profiling (`cProfile`, `line_profiler`)\n",
    "  - Optional: Rewriting parts in **Cython**\n",
    "\n",
    "You will be graded on correctness, efficiency, profiling output, and how well you optimize the implementation.\n",
    "\n",
    "\n",
    "## ✅ Task 1: Implement All Methods\n",
    "\n",
    "Complete the following special methods in the `Matrix` class:\n",
    "\n",
    "| Method       | Operation             | Description                        |\n",
    "|--------------|------------------------|------------------------------------|\n",
    "| `__add__`    | `A + B`                | Supports broadcasting              |\n",
    "| `__sub__`    | `A - B`                | Supports broadcasting              |\n",
    "| `__mul__`    | `A * B`                | Element-wise multiplication        |\n",
    "| `__matmul__` | `A @ B`                | Matrix multiplication              |\n",
    "| `__pow__`    | `A ** n`               | Element-wise exponentiation        |\n"
   ]
  },
  {
   "cell_type": "code",
   "execution_count": 4,
   "metadata": {
    "id": "Kq7fXf0JU3X4"
   },
   "outputs": [],
   "source": [
    "#skeleton\n",
    "import numpy as np\n",
    "\n",
    "class Matrix:\n",
    "    \"\"\"\n",
    "    A 2D Matrix class supporting basic operations and broadcasting.\n",
    "    Internally uses NumPy for performance but encapsulates it for educational purposes.\n",
    "    \"\"\"\n",
    "    __slots__ = ['data']  # Optimization: Reduces memory overhead\n",
    "\n",
    "    def __init__(self, data):\n",
    "        if isinstance(data, list):\n",
    "            data = np.array(data)\n",
    "        if not isinstance(data, np.ndarray):\n",
    "            raise TypeError(\"Data must be a list or NumPy array\")\n",
    "        if data.ndim == 1:\n",
    "            data = data[np.newaxis, :]  # Allow row vector broadcasting\n",
    "        elif data.ndim != 2:\n",
    "            raise ValueError(\"Only 2D matrices are allowed\")\n",
    "        self.data = data\n",
    "\n",
    "    def __add__(self, other):\n",
    "        other_data = other.data if isinstance(other, Matrix) else other\n",
    "        return Matrix(self.data + other_data)\n",
    "\n",
    "    def __sub__(self, other):\n",
    "        other_data = other.data if isinstance(other, Matrix) else other\n",
    "        return Matrix(self.data - other_data)\n",
    "\n",
    "    def __mul__(self, other):\n",
    "        other_data = other.data if isinstance(other, Matrix) else other\n",
    "        return Matrix(self.data * other_data)\n",
    "\n",
    "    def __matmul__(self, other):\n",
    "        other_data = other.data if isinstance(other, Matrix) else other\n",
    "        return Matrix(self.data @ other_data)\n",
    "\n",
    "    def __pow__(self, power):\n",
    "        return Matrix(self.data ** power)\n",
    "\n",
    "    def __str__(self):\n",
    "        return str(self.data)\n",
    "\n",
    "    def __repr__(self):\n",
    "        return f\"Matrix({repr(self.data)})\"\n",
    "\n",
    "    def shape(self):\n",
    "        return self.data.shape\n",
    "\n",
    "\n",
    "\n",
    "\n"
   ]
  },
  {
   "cell_type": "code",
   "execution_count": 6,
   "metadata": {},
   "outputs": [
    {
     "name": "stdout",
     "output_type": "stream",
     "text": [
      "Matrix A:\n",
      " [[1 2]\n",
      " [3 4]]\n",
      "Matrix B:\n",
      " [[5 6]]\n",
      "Result of (A + B) @ (A - B) ** 2:\n",
      " [[128 128]\n",
      " [168 168]]\n"
     ]
    }
   ],
   "source": [
    "### 🧪 Task 2: Demonstrate a Complex Expression\n",
    "\n",
    "#result = (A + B) @ (A - B) ** 2\n",
    "\n",
    "# Create matrices\n",
    "A = Matrix([[1, 2],\n",
    "            [3, 4]])\n",
    "\n",
    "B = Matrix([5, 6])  \n",
    "\n",
    "result = (A + B) @ (A - B) ** 2\n",
    "\n",
    "# Print results\n",
    "print(\"Matrix A:\\n\", A)\n",
    "print(\"Matrix B:\\n\", B)\n",
    "print(\"Result of (A + B) @ (A - B) ** 2:\\n\", result)"
   ]
  },
  {
   "cell_type": "code",
   "execution_count": 7,
   "metadata": {},
   "outputs": [
    {
     "name": "stdout",
     "output_type": "stream",
     "text": [
      "Average execution time over 10000 runs: 0.00002244 seconds\n"
     ]
    }
   ],
   "source": [
    "### ⏱️ Task 3: Time Execution\n",
    "\n",
    "import time\n",
    "\n",
    "# Initialize A and B again for timing context\n",
    "A = Matrix([[1, 2], [3, 4]])\n",
    "B = Matrix([5, 6])\n",
    "\n",
    "# Run multiple times for averaging\n",
    "runs = 10000\n",
    "start = time.perf_counter()\n",
    "\n",
    "for _ in range(runs):\n",
    "    result = (A + B) @ (A - B) ** 2\n",
    "\n",
    "end = time.perf_counter()\n",
    "\n",
    "avg_time = (end - start) / runs\n",
    "print(f\"Average execution time over {runs} runs: {avg_time:.8f} seconds\")\n"
   ]
  },
  {
   "cell_type": "code",
   "execution_count": 8,
   "metadata": {},
   "outputs": [
    {
     "name": "stdout",
     "output_type": "stream",
     "text": [
      "\n",
      "[Memory Usage Differences]\n",
      "c:\\Python311\\Lib\\tracemalloc.py:560: size=320 B (+320 B), count=2 (+2), average=160 B\n",
      "c:\\Python311\\Lib\\tracemalloc.py:423: size=320 B (+320 B), count=2 (+2), average=160 B\n",
      "C:\\Users\\tanis\\AppData\\Local\\Temp\\ipykernel_8676\\3414285132.py:36: size=152 B (+152 B), count=3 (+3), average=51 B\n",
      "c:\\Python311\\Lib\\codeop.py:125: size=341 B (+48 B), count=3 (+1), average=114 B\n",
      "c:\\Python311\\Lib\\tracemalloc.py:313: size=48 B (+48 B), count=1 (+1), average=48 B\n"
     ]
    }
   ],
   "source": [
    "### 🧯 Task 4: Measure Memory Footprint\n",
    "\n",
    "import tracemalloc\n",
    "\n",
    "# Start memory tracking\n",
    "tracemalloc.start()\n",
    "\n",
    "# Initial memory snapshot\n",
    "start_snapshot = tracemalloc.take_snapshot()\n",
    "\n",
    "# Run the complex expression\n",
    "result = (A + B) @ (A - B) ** 2\n",
    "\n",
    "# Final memory snapshot\n",
    "end_snapshot = tracemalloc.take_snapshot()\n",
    "\n",
    "# Compare memory usage\n",
    "stats = end_snapshot.compare_to(start_snapshot, 'lineno')\n",
    "\n",
    "print(\"\\n[Memory Usage Differences]\")\n",
    "for stat in stats[:5]:  # top 5 lines\n",
    "    print(stat)"
   ]
  },
  {
   "cell_type": "code",
   "execution_count": 9,
   "metadata": {},
   "outputs": [
    {
     "name": "stdout",
     "output_type": "stream",
     "text": [
      "\n",
      "[cProfile Output]\n",
      "         31 function calls in 0.001 seconds\n",
      "\n",
      "   Ordered by: standard name\n",
      "\n",
      "   ncalls  tottime  percall  cumtime  percall filename:lineno(function)\n",
      "        1    0.000    0.000    0.000    0.000 3028594434.py:5(compute_expression)\n",
      "        6    0.000    0.000    0.000    0.000 3414285132.py:11(__init__)\n",
      "        1    0.000    0.000    0.000    0.000 3414285132.py:22(__add__)\n",
      "        1    0.000    0.000    0.000    0.000 3414285132.py:26(__sub__)\n",
      "        1    0.000    0.000    0.000    0.000 3414285132.py:34(__matmul__)\n",
      "        1    0.000    0.000    0.000    0.000 3414285132.py:38(__pow__)\n",
      "        1    0.000    0.000    0.000    0.000 <string>:1(<module>)\n",
      "        1    0.000    0.000    0.001    0.001 {built-in method builtins.exec}\n",
      "       15    0.000    0.000    0.000    0.000 {built-in method builtins.isinstance}\n",
      "        2    0.000    0.000    0.000    0.000 {built-in method numpy.array}\n",
      "        1    0.000    0.000    0.000    0.000 {method 'disable' of '_lsprof.Profiler' objects}\n",
      "\n",
      "\n"
     ]
    }
   ],
   "source": [
    "### 📊 Task 5: Profile Function Calls\n",
    "\n",
    "import cProfile\n",
    "\n",
    "def compute_expression():\n",
    "    A = Matrix([[1, 2], [3, 4]])\n",
    "    B = Matrix([5, 6])\n",
    "    return (A + B) @ (A - B) ** 2\n",
    "\n",
    "# Profile it\n",
    "print(\"\\n[cProfile Output]\")\n",
    "cProfile.run('compute_expression()')"
   ]
  },
  {
   "cell_type": "code",
   "execution_count": null,
   "metadata": {},
   "outputs": [],
   "source": [
    "### 🔍 Task 6: Line-by-Line Profiling\n",
    "\n",
    "%pip install line_profiler\n",
    "\n",
    "@profile\n",
    "def __add__(self, other):\n",
    "    return Matrix(self.data + self._get_data(other))\n",
    "\n",
    "# Run th Command-  # kernprof -l -v matrix_challenge.py \n",
    "# by keeping the code above in a separate matrix_challenge.py file"
   ]
  },
  {
   "cell_type": "code",
   "execution_count": 11,
   "metadata": {
    "id": "vT_RzfmnVNQO"
   },
   "outputs": [],
   "source": [
    "### 🚀 Task 7: Optimize!\n",
    "\n",
    "import numpy as np\n",
    "\n",
    "class Matrix:\n",
    "    \"\"\"\n",
    "    A 2D Matrix class supporting basic operations and broadcasting.\n",
    "    Optimized with __slots__ to reduce memory usage.\n",
    "    \"\"\"\n",
    "\n",
    "    __slots__ = ['data']  # ⏱️ optimization: saves per-instance memory\n",
    "\n",
    "    def __init__(self, data):\n",
    "        if isinstance(data, list):\n",
    "            data = np.array(data)\n",
    "        if not isinstance(data, np.ndarray):\n",
    "            raise TypeError(\"Data must be a list or NumPy array\")\n",
    "        if data.ndim == 1:\n",
    "            data = np.expand_dims(data, axis=0)  # broadcast 1D to 2D row vector\n",
    "        elif data.ndim != 2:\n",
    "            raise ValueError(\"Only 2D matrices are allowed\")\n",
    "        self.data = data\n",
    "\n",
    "    def _get_data(self, other):\n",
    "        return other.data if isinstance(other, Matrix) else other\n",
    "\n",
    "    def __add__(self, other):\n",
    "        return Matrix(self.data + self._get_data(other))\n",
    "\n",
    "    def __sub__(self, other):\n",
    "        return Matrix(self.data - self._get_data(other))\n",
    "\n",
    "    def __mul__(self, other):\n",
    "        return Matrix(self.data * self._get_data(other))\n",
    "\n",
    "    def __matmul__(self, other):\n",
    "        return Matrix(self.data @ self._get_data(other))\n",
    "\n",
    "    def __pow__(self, power):\n",
    "        return Matrix(self.data ** power)\n",
    "\n",
    "    def __str__(self):\n",
    "        return str(self.data)\n",
    "\n",
    "    def __repr__(self):\n",
    "        return f\"Matrix({repr(self.data)})\"\n",
    "\n",
    "    def shape(self):\n",
    "        return self.data.shape"
   ]
  },
  {
   "cell_type": "markdown",
   "metadata": {
    "id": "dGixV9C2U41P"
   },
   "source": []
  }
 ],
 "metadata": {
  "colab": {
   "authorship_tag": "ABX9TyMWR3pd0YordPZBpfQwVG8l",
   "provenance": [
    {
     "file_id": "1KC2Q4LuDmosjZ18Sh_hpVW91LSDDpXh3",
     "timestamp": 1747021117545
    }
   ]
  },
  "kernelspec": {
   "display_name": "Python 3",
   "name": "python3"
  },
  "language_info": {
   "codemirror_mode": {
    "name": "ipython",
    "version": 3
   },
   "file_extension": ".py",
   "mimetype": "text/x-python",
   "name": "python",
   "nbconvert_exporter": "python",
   "pygments_lexer": "ipython3",
   "version": "3.11.8"
  }
 },
 "nbformat": 4,
 "nbformat_minor": 0
}
